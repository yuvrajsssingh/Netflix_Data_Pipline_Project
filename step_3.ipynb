{
 "cells": [
  {
   "cell_type": "code",
   "execution_count": 1,
   "id": "507df26e-431f-49cd-a6c5-fe48fd3de2a1",
   "metadata": {},
   "outputs": [],
   "source": [
    "import psycopg2\n",
    "import boto3\n",
    "import pandas as pd\n",
    "from io import StringIO"
   ]
  },
  {
   "cell_type": "code",
   "execution_count": 2,
   "id": "f5277f48-cd54-4c97-b757-b7710e5c5bb2",
   "metadata": {},
   "outputs": [],
   "source": [
    "# AWS Credentials (ensure they are properly configured)\n",
    "aws_access_key_id = access_key\n",
    "aws_secret_access_key = secret_access\n",
    "bucket_name = 'netflix-etl-yuv'\n",
    "region_name = 'ap-south-1'"
   ]
  },
  {
   "cell_type": "code",
   "execution_count": null,
   "id": "70687730-2dbb-4262-a826-bd81c33b123c",
   "metadata": {},
   "outputs": [],
   "source": [
    "# Connect to RDS database\n",
    "rds_conn = psycopg2.connect(\n",
    "    host=\"database-1.cp2yioesmyq6.ap-south-1.rds.amazonaws.com\",\n",
    "    database=\"dbname\",\n",
    "    user=\"postgres\",\n",
    "    password=\"admin123\",\n",
    "    port=5432\n",
    ")"
   ]
  },
  {
   "cell_type": "code",
   "execution_count": 12,
   "id": "2302e3d7-6cae-46e1-a244-6fd26a9a27a2",
   "metadata": {},
   "outputs": [],
   "source": [
    "cursor = rds_conn.cursor()"
   ]
  },
  {
   "cell_type": "code",
   "execution_count": 16,
   "id": "dad7a908-4377-4763-a7f9-70e88c693f08",
   "metadata": {},
   "outputs": [],
   "source": [
    "s3_client = boto3.client('s3', aws_access_key_id=aws_access_key_id, aws_secret_access_key=aws_secret_access_key, region_name=region_name)\n"
   ]
  },
  {
   "cell_type": "code",
   "execution_count": 20,
   "id": "f52a248b-7d88-4aac-bcb1-a4af26db9dc3",
   "metadata": {},
   "outputs": [
    {
     "name": "stderr",
     "output_type": "stream",
     "text": [
      "C:\\Users\\admin\\AppData\\Local\\Temp\\ipykernel_11524\\2198601710.py:1: UserWarning: pandas only supports SQLAlchemy connectable (engine/connection) or database string URI or sqlite3 DBAPI2 connection. Other DBAPI2 objects are not tested. Please consider using SQLAlchemy.\n",
      "  df_best_show_by_year = pd.read_sql(\"SELECT * FROM Best_show_by_year\",rds_conn)\n"
     ]
    },
    {
     "name": "stdout",
     "output_type": "stream",
     "text": [
      "Uploaded Best_show_by_year.csv\n"
     ]
    }
   ],
   "source": [
    "df_best_show_by_year = pd.read_sql(\"SELECT * FROM Best_show_by_year\",rds_conn)\n",
    "\n",
    "csv_buffer = StringIO()\n",
    "df_best_show_by_year.to_csv(csv_buffer, index=False)\n",
    "\n",
    "s3_client.put_object(Bucket='netflix-etl-yuv', Key='Best_show_by_year.csv', Body=csv_buffer.getvalue())\n",
    "print(\"Uploaded Best_show_by_year.csv\")\n"
   ]
  },
  {
   "cell_type": "code",
   "execution_count": 21,
   "id": "02996a14-4a25-495d-a6b7-9dd7850372bc",
   "metadata": {},
   "outputs": [
    {
     "name": "stderr",
     "output_type": "stream",
     "text": [
      "C:\\Users\\admin\\AppData\\Local\\Temp\\ipykernel_11524\\3263132440.py:1: UserWarning: pandas only supports SQLAlchemy connectable (engine/connection) or database string URI or sqlite3 DBAPI2 connection. Other DBAPI2 objects are not tested. Please consider using SQLAlchemy.\n",
      "  df_best_movie = pd.read_sql(\"SELECT * FROM Best_movie\",rds_conn)\n"
     ]
    },
    {
     "name": "stdout",
     "output_type": "stream",
     "text": [
      "Uploaded Best_movie.csv\n"
     ]
    }
   ],
   "source": [
    "df_best_movie = pd.read_sql(\"SELECT * FROM Best_movie\",rds_conn)\n",
    "\n",
    "csv_buffer = StringIO()\n",
    "df_best_movie.to_csv(csv_buffer, index=False)\n",
    "\n",
    "s3_client.put_object(Bucket='netflix-etl-yuv', Key='Best_movie.csv', Body=csv_buffer.getvalue())\n",
    "print(\"Uploaded Best_movie.csv\")\n"
   ]
  },
  {
   "cell_type": "code",
   "execution_count": 24,
   "id": "32f92350-2030-49da-aa1d-d103ed6c3f59",
   "metadata": {},
   "outputs": [
    {
     "name": "stderr",
     "output_type": "stream",
     "text": [
      "C:\\Users\\admin\\AppData\\Local\\Temp\\ipykernel_11524\\274137028.py:1: UserWarning: pandas only supports SQLAlchemy connectable (engine/connection) or database string URI or sqlite3 DBAPI2 connection. Other DBAPI2 objects are not tested. Please consider using SQLAlchemy.\n",
      "  df_raw_titles = pd.read_sql(\"SELECT * FROM Raw_titles\",rds_conn)\n"
     ]
    },
    {
     "name": "stdout",
     "output_type": "stream",
     "text": [
      "Uploaded Raw_titles.csv\n"
     ]
    }
   ],
   "source": [
    "df_raw_titles = pd.read_sql(\"SELECT * FROM Raw_titles\",rds_conn)\n",
    "\n",
    "csv_buffer = StringIO()\n",
    "df_raw_titles.to_csv(csv_buffer, index=False)\n",
    "\n",
    "s3_client.put_object(Bucket='netflix-etl-yuv', Key='Raw_titles.csv', Body=csv_buffer.getvalue())\n",
    "print(\"Uploaded Raw_titles.csv\")"
   ]
  },
  {
   "cell_type": "code",
   "execution_count": 25,
   "id": "c7bd95ef-1d1b-489b-82c3-a25f71e12716",
   "metadata": {},
   "outputs": [
    {
     "name": "stderr",
     "output_type": "stream",
     "text": [
      "C:\\Users\\admin\\AppData\\Local\\Temp\\ipykernel_11524\\3791980742.py:1: UserWarning: pandas only supports SQLAlchemy connectable (engine/connection) or database string URI or sqlite3 DBAPI2 connection. Other DBAPI2 objects are not tested. Please consider using SQLAlchemy.\n",
      "  df_raw_credits = pd.read_sql(\"SELECT * FROM Raw_credits\",rds_conn)\n"
     ]
    },
    {
     "name": "stdout",
     "output_type": "stream",
     "text": [
      "Uploaded Raw_credits.csv\n"
     ]
    }
   ],
   "source": [
    "df_raw_credits = pd.read_sql(\"SELECT * FROM Raw_credits\",rds_conn)\n",
    "\n",
    "csv_buffer = StringIO()\n",
    "df_raw_credits.to_csv(csv_buffer, index=False)\n",
    "\n",
    "s3_client.put_object(Bucket='netflix-etl-yuv', Key='Raw_credits.csv', Body=csv_buffer.getvalue())\n",
    "print(\"Uploaded Raw_credits.csv\")"
   ]
  },
  {
   "cell_type": "code",
   "execution_count": 27,
   "id": "fa5793b5-284d-430b-96c5-3eaae68bb93c",
   "metadata": {},
   "outputs": [
    {
     "name": "stderr",
     "output_type": "stream",
     "text": [
      "C:\\Users\\admin\\AppData\\Local\\Temp\\ipykernel_11524\\3745081209.py:1: UserWarning: pandas only supports SQLAlchemy connectable (engine/connection) or database string URI or sqlite3 DBAPI2 connection. Other DBAPI2 objects are not tested. Please consider using SQLAlchemy.\n",
      "  df_best_shows = pd.read_sql(\"SELECT * FROM Best_shows\",rds_conn)\n"
     ]
    },
    {
     "name": "stdout",
     "output_type": "stream",
     "text": [
      "Uploaded Best_shows.csv\n"
     ]
    }
   ],
   "source": [
    "df_best_shows = pd.read_sql(\"SELECT * FROM Best_shows\",rds_conn)\n",
    "\n",
    "\n",
    "csv_buffer = StringIO()\n",
    "df_best_shows.to_csv(csv_buffer, index=False)\n",
    "\n",
    "s3_client.put_object(Bucket='netflix-etl-yuv', Key='Best_shows.csv', Body=csv_buffer.getvalue())\n",
    "print(\"Uploaded Best_shows.csv\")"
   ]
  },
  {
   "cell_type": "code",
   "execution_count": null,
   "id": "dc2d4e9f-8116-44a1-ab33-0a515c140140",
   "metadata": {},
   "outputs": [],
   "source": []
  }
 ],
 "metadata": {
  "kernelspec": {
   "display_name": "Python 3 (ipykernel)",
   "language": "python",
   "name": "python3"
  },
  "language_info": {
   "codemirror_mode": {
    "name": "ipython",
    "version": 3
   },
   "file_extension": ".py",
   "mimetype": "text/x-python",
   "name": "python",
   "nbconvert_exporter": "python",
   "pygments_lexer": "ipython3",
   "version": "3.10.7"
  }
 },
 "nbformat": 4,
 "nbformat_minor": 5
}
