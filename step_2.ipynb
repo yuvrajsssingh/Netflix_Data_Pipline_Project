{
 "cells": [
  {
   "cell_type": "code",
   "execution_count": 6,
   "id": "01bf99ce-8d0a-4ce3-8042-372131ef6655",
   "metadata": {},
   "outputs": [],
   "source": [
    "import psycopg2\n",
    "import pandas as pd"
   ]
  },
  {
   "cell_type": "raw",
   "id": "6235956e-6154-47e7-87ed-71019c873e9e",
   "metadata": {},
   "source": [
    "Connect to Local PostgreSQL & Read Data"
   ]
  },
  {
   "cell_type": "code",
   "execution_count": 42,
   "id": "864ebbb9-9ea8-441c-ae55-06e5297732d0",
   "metadata": {},
   "outputs": [],
   "source": [
    "local_conn = psycopg2.connect(\n",
    "    host=\"localhost\",\n",
    "    database=\"accounts\",\n",
    "    user=\"postgres\",\n",
    "    password=\"yuvraj@123\"\n",
    ")"
   ]
  },
  {
   "cell_type": "code",
   "execution_count": 9,
   "id": "8a5cf1b6-e364-452f-a159-a81f30f51306",
   "metadata": {},
   "outputs": [
    {
     "name": "stderr",
     "output_type": "stream",
     "text": [
      "C:\\Users\\admin\\AppData\\Local\\Temp\\ipykernel_7908\\3072357661.py:2: UserWarning: pandas only supports SQLAlchemy connectable (engine/connection) or database string URI or sqlite3 DBAPI2 connection. Other DBAPI2 objects are not tested. Please consider using SQLAlchemy.\n",
      "  df_Best_show_by_year = pd.read_sql(query, local_conn)\n"
     ]
    }
   ],
   "source": [
    "query = \"SELECT * FROM Best_show_by_year\"\n",
    "df_Best_show_by_year = pd.read_sql(query, local_conn)"
   ]
  },
  {
   "cell_type": "code",
   "execution_count": 11,
   "id": "a7744dd5-9db9-4109-8cc1-8b974768358a",
   "metadata": {},
   "outputs": [
    {
     "name": "stderr",
     "output_type": "stream",
     "text": [
      "C:\\Users\\admin\\AppData\\Local\\Temp\\ipykernel_7908\\2464860348.py:2: UserWarning: pandas only supports SQLAlchemy connectable (engine/connection) or database string URI or sqlite3 DBAPI2 connection. Other DBAPI2 objects are not tested. Please consider using SQLAlchemy.\n",
      "  df_Raw_titles = pd.read_sql(query, local_conn)\n"
     ]
    }
   ],
   "source": [
    "query = \"SELECT * FROM Raw_titles\"\n",
    "df_Raw_titles = pd.read_sql(query, local_conn)"
   ]
  },
  {
   "cell_type": "code",
   "execution_count": 43,
   "id": "bffbb644-42c3-4ace-9e40-34f2a48e5917",
   "metadata": {},
   "outputs": [
    {
     "name": "stderr",
     "output_type": "stream",
     "text": [
      "C:\\Users\\admin\\AppData\\Local\\Temp\\ipykernel_7908\\3386595774.py:2: UserWarning: pandas only supports SQLAlchemy connectable (engine/connection) or database string URI or sqlite3 DBAPI2 connection. Other DBAPI2 objects are not tested. Please consider using SQLAlchemy.\n",
      "  df_Raw_credits = pd.read_sql(query, local_conn)\n"
     ]
    }
   ],
   "source": [
    "query = \"SELECT * FROM Raw_credits\"\n",
    "df_Raw_credits = pd.read_sql(query, local_conn)"
   ]
  },
  {
   "cell_type": "code",
   "execution_count": 14,
   "id": "7adad2cd-3a16-45e1-84ae-48f54631c141",
   "metadata": {},
   "outputs": [
    {
     "name": "stderr",
     "output_type": "stream",
     "text": [
      "C:\\Users\\admin\\AppData\\Local\\Temp\\ipykernel_7908\\1882308474.py:2: UserWarning: pandas only supports SQLAlchemy connectable (engine/connection) or database string URI or sqlite3 DBAPI2 connection. Other DBAPI2 objects are not tested. Please consider using SQLAlchemy.\n",
      "  df_Best_shows = pd.read_sql(query, local_conn)\n"
     ]
    }
   ],
   "source": [
    "query = \"SELECT * FROM Best_shows\"\n",
    "df_Best_shows = pd.read_sql(query, local_conn)"
   ]
  },
  {
   "cell_type": "code",
   "execution_count": 15,
   "id": "60f28d59-89c1-41fa-b12d-d26f89686907",
   "metadata": {},
   "outputs": [
    {
     "name": "stderr",
     "output_type": "stream",
     "text": [
      "C:\\Users\\admin\\AppData\\Local\\Temp\\ipykernel_7908\\3072357661.py:2: UserWarning: pandas only supports SQLAlchemy connectable (engine/connection) or database string URI or sqlite3 DBAPI2 connection. Other DBAPI2 objects are not tested. Please consider using SQLAlchemy.\n",
      "  df_Best_show_by_year = pd.read_sql(query, local_conn)\n"
     ]
    }
   ],
   "source": [
    "query = \"SELECT * FROM Best_show_by_year\"\n",
    "df_Best_show_by_year = pd.read_sql(query, local_conn)"
   ]
  },
  {
   "cell_type": "code",
   "execution_count": 16,
   "id": "e1e9ae3f-9e50-438d-9394-5fc6f0b96fc8",
   "metadata": {},
   "outputs": [
    {
     "name": "stderr",
     "output_type": "stream",
     "text": [
      "C:\\Users\\admin\\AppData\\Local\\Temp\\ipykernel_7908\\4048070426.py:2: UserWarning: pandas only supports SQLAlchemy connectable (engine/connection) or database string URI or sqlite3 DBAPI2 connection. Other DBAPI2 objects are not tested. Please consider using SQLAlchemy.\n",
      "  df_Best_movie = pd.read_sql(query, local_conn)\n"
     ]
    }
   ],
   "source": [
    "query = \"SELECT * FROM Best_movie\"\n",
    "df_Best_movie = pd.read_sql(query, local_conn)"
   ]
  },
  {
   "cell_type": "raw",
   "id": "e79bccd5-e87e-43be-a1a7-544283073e5b",
   "metadata": {},
   "source": [
    "Connect to AWS RDS PostgreSQL"
   ]
  },
  {
   "cell_type": "code",
   "execution_count": 18,
   "id": "9df8aff2-a394-49b7-91fd-36f563e5c193",
   "metadata": {},
   "outputs": [],
   "source": [
    "rds_conn = psycopg2.connect(\n",
    "    host=\"database-1.cp2yioesmyq6.ap-south-1.rds.amazonaws.com\",\n",
    "    database=\"dbname\",\n",
    "    user=\"postgres\",\n",
    "    password=\"admin123\",\n",
    "    port=5432\n",
    ")\n",
    "\n",
    "cursor = rds_conn.cursor()"
   ]
  },
  {
   "cell_type": "code",
   "execution_count": 24,
   "id": "290d2222-9167-4155-9245-88435472aa1e",
   "metadata": {},
   "outputs": [],
   "source": [
    "create_table_Best_show_by_year = '''\n",
    "CREATE TABLE IF NOT EXISTS Best_Movie_by_Year (\n",
    "    title VARCHAR(255),\n",
    "    release_year BIGINT,\n",
    "    score DOUBLE PRECISION,\n",
    "    number_of_seasons BIGINT,\n",
    "    main_genre VARCHAR(100),\n",
    "    main_production VARCHAR(255)\n",
    ");\n",
    "'''\n",
    "cursor.execute(create_table_Best_show_by_year)\n",
    "rds_conn.commit()"
   ]
  },
  {
   "cell_type": "code",
   "execution_count": 23,
   "id": "7c7cae58-4084-4c81-90c9-c1365bbaff58",
   "metadata": {},
   "outputs": [],
   "source": [
    "rds_conn.rollback()"
   ]
  },
  {
   "cell_type": "code",
   "execution_count": 25,
   "id": "3b2646ad-6711-4695-9302-d24012f06653",
   "metadata": {},
   "outputs": [],
   "source": [
    "for index, row in df_Best_show_by_year.iterrows():\n",
    "    cursor.execute(\"\"\"\n",
    "        INSERT INTO Best_Movie_by_Year (\n",
    "            title, release_year, score,\n",
    "            number_of_seasons, main_genre, main_production\n",
    "        )\n",
    "        VALUES (%s, %s, %s, %s, %s, %s)\n",
    "    \"\"\", (\n",
    "        row['title'], row['release_year'], row['score'],\n",
    "        row['number_of_seasons'], row['main_genre'], row['main_production']\n",
    "    ))"
   ]
  },
  {
   "cell_type": "code",
   "execution_count": 26,
   "id": "4ce74092-9d80-40cc-b702-01120cb540e1",
   "metadata": {},
   "outputs": [],
   "source": [
    "rds_conn.commit()"
   ]
  },
  {
   "cell_type": "code",
   "execution_count": 27,
   "id": "d098c30d-8917-460f-ac81-8b884187fd51",
   "metadata": {},
   "outputs": [],
   "source": [
    "create_table_Raw_titles = '''\n",
    "CREATE TABLE IF NOT EXISTS Raw_titles (\n",
    "    id VARCHAR(50) PRIMARY KEY,\n",
    "    title VARCHAR(255),\n",
    "    type VARCHAR(100),\n",
    "    release_year INT,\n",
    "    runtime INT,\n",
    "    genres TEXT,\n",
    "    production_countries TEXT,\n",
    "    seasons INT,\n",
    "    imdb_id VARCHAR(20),\n",
    "    imdb_score DOUBLE PRECISION,\n",
    "    imdb_votes DOUBLE PRECISION\n",
    ");\n",
    "'''\n",
    "cursor.execute(create_table_Raw_titles)\n",
    "rds_conn.commit()"
   ]
  },
  {
   "cell_type": "code",
   "execution_count": 29,
   "id": "07307f7b-9dfb-4932-b9e1-9a3b525a9f4a",
   "metadata": {},
   "outputs": [],
   "source": [
    "for index, row in df_Raw_titles.iterrows():\n",
    "    cursor.execute(\"\"\"\n",
    "            INSERT INTO Raw_titles (\n",
    "                id, title, type, release_year, runtime,\n",
    "                genres, production_countries, seasons,\n",
    "                imdb_id, imdb_score, imdb_votes\n",
    "            )\n",
    "            VALUES (%s, %s, %s, %s, %s, %s, %s, %s, %s, %s, %s)\n",
    "        \"\"\", (\n",
    "            row['id'], row['title'], row['type'], row['release_year'], row['runtime'],\n",
    "            row['genres'], row['production_countries'], row['seasons'],\n",
    "            row['imdb_id'], row['imdb_score'], row['imdb_votes']\n",
    "        ))"
   ]
  },
  {
   "cell_type": "code",
   "execution_count": 30,
   "id": "83252ca8-9c9d-4089-bde1-09d358d38770",
   "metadata": {},
   "outputs": [],
   "source": [
    "rds_conn.commit()"
   ]
  },
  {
   "cell_type": "code",
   "execution_count": 38,
   "id": "3e828818-3b8b-463f-99ae-4660ca2c0b49",
   "metadata": {},
   "outputs": [],
   "source": [
    "create_table_Raw_credits = '''\n",
    "CREATE TABLE IF NOT EXISTS Raw_credits (\n",
    "    person_id INT,\n",
    "    id VARCHAR(50),\n",
    "    name VARCHAR(500),\n",
    "    character VARCHAR(500),\n",
    "    role VARCHAR(100)\n",
    ");\n",
    "'''\n",
    "\n",
    "cursor.execute(create_table_Raw_credits)\n",
    "rds_conn.commit()"
   ]
  },
  {
   "cell_type": "code",
   "execution_count": 45,
   "id": "e32404a5-7117-4903-8a4a-93020047822d",
   "metadata": {},
   "outputs": [],
   "source": [
    "for index, row in df_Raw_credits.iterrows():\n",
    "        cursor.execute(\"\"\"\n",
    "            INSERT INTO Raw_credits (\n",
    "                person_id, id, name, character, role\n",
    "            )\n",
    "            VALUES (%s, %s, %s, %s, %s)\n",
    "        \"\"\", (\n",
    "            row['person_id'], row['id'], row['name'],\n",
    "            row['character'], row['role']\n",
    "        ))"
   ]
  },
  {
   "cell_type": "code",
   "execution_count": 46,
   "id": "2b17ebf6-d095-4c78-b2e2-dce59e2b4a6a",
   "metadata": {},
   "outputs": [],
   "source": [
    "rds_conn.commit()"
   ]
  },
  {
   "cell_type": "code",
   "execution_count": 48,
   "id": "8a4cbe7c-7476-4c70-957b-be6b3b76502f",
   "metadata": {},
   "outputs": [],
   "source": [
    "create_table_Best_shows = '''\n",
    "CREATE TABLE IF NOT EXISTS Best_shows (\n",
    "    title VARCHAR(255),\n",
    "    release_year INT,\n",
    "    score FLOAT,\n",
    "    number_of_votes INT,\n",
    "    number_of_seasons INT,\n",
    "    main_genre VARCHAR(100),\n",
    "    main_production VARCHAR(255)\n",
    ");\n",
    "'''\n",
    "\n",
    "cursor.execute(create_table_Best_shows)\n",
    "rds_conn.commit()"
   ]
  },
  {
   "cell_type": "code",
   "execution_count": 49,
   "id": "03dea9be-a117-40cf-b58c-e547304169b6",
   "metadata": {},
   "outputs": [],
   "source": [
    "for index, row in df_Best_shows.iterrows():\n",
    "        cursor.execute(\"\"\"\n",
    "            INSERT INTO Best_shows (\n",
    "                title, release_year, score,\n",
    "                number_of_votes, number_of_seasons,\n",
    "                main_genre, main_production\n",
    "            )\n",
    "            VALUES (%s, %s, %s, %s, %s, %s, %s)\n",
    "        \"\"\", (\n",
    "            row['title'], row['release_year'], row['score'],\n",
    "            row['number_of_votes'], row['number_of_seasons'],\n",
    "            row['main_genre'], row['main_production']\n",
    "        ))\n",
    "\n"
   ]
  },
  {
   "cell_type": "code",
   "execution_count": 50,
   "id": "07e2d4e8-887b-484f-949b-836c9caa852c",
   "metadata": {},
   "outputs": [],
   "source": [
    "rds_conn.commit()"
   ]
  },
  {
   "cell_type": "code",
   "execution_count": 51,
   "id": "0e16e7ad-86ca-489c-96a5-9e5fadd03c55",
   "metadata": {},
   "outputs": [],
   "source": [
    "create_table_Best_show_by_year = '''\n",
    "CREATE TABLE IF NOT EXISTS Best_show_by_year (\n",
    "    title VARCHAR(255),\n",
    "    release_year INT,\n",
    "    score FLOAT,\n",
    "    number_of_seasons INT,\n",
    "    main_genre VARCHAR(100),\n",
    "    main_production VARCHAR(255)\n",
    ");\n",
    "'''\n",
    "cursor.execute(create_table_Best_show_by_year)\n",
    "rds_conn.commit()"
   ]
  },
  {
   "cell_type": "code",
   "execution_count": 52,
   "id": "f451d22d-5585-48d4-91b5-6f9799019ee5",
   "metadata": {},
   "outputs": [],
   "source": [
    "for index, row in df_Best_show_by_year.iterrows():\n",
    "        cursor.execute(\"\"\"\n",
    "            INSERT INTO Best_show_by_year (\n",
    "                title, release_year, score,\n",
    "                number_of_seasons, main_genre, main_production\n",
    "            )\n",
    "            VALUES (%s, %s, %s, %s, %s, %s)\n",
    "        \"\"\", (\n",
    "            row['title'], row['release_year'], row['score'],\n",
    "            row['number_of_seasons'], row['main_genre'], row['main_production']\n",
    "        ))"
   ]
  },
  {
   "cell_type": "code",
   "execution_count": 53,
   "id": "33ec1d36-8580-4baa-b85d-94d2bc632e79",
   "metadata": {},
   "outputs": [],
   "source": [
    "rds_conn.commit()"
   ]
  },
  {
   "cell_type": "code",
   "execution_count": 54,
   "id": "b8d5d8e7-643e-4aa5-a114-c1fe78de5108",
   "metadata": {},
   "outputs": [],
   "source": [
    "create_table_best_movie = '''\n",
    "CREATE TABLE IF NOT EXISTS Best_movie (\n",
    "    title VARCHAR(255),\n",
    "    release_year INT,\n",
    "    score DOUBLE PRECISION,\n",
    "    number_of_votes INT,\n",
    "    main_genre VARCHAR(100),\n",
    "    main_production VARCHAR(255)\n",
    ");\n",
    "'''\n",
    "\n",
    "cursor.execute(create_table_best_movie)\n",
    "rds_conn.commit()\n"
   ]
  },
  {
   "cell_type": "code",
   "execution_count": 55,
   "id": "86447416-3a98-46fa-9474-b2cccb0468e0",
   "metadata": {},
   "outputs": [],
   "source": [
    "for index, row in df_Best_movie.iterrows():\n",
    "        cursor.execute(\"\"\"\n",
    "            INSERT INTO Best_movie (\n",
    "                title, release_year, score,\n",
    "                number_of_votes, main_genre, main_production\n",
    "            )\n",
    "            VALUES (%s, %s, %s, %s, %s, %s)\n",
    "        \"\"\", (\n",
    "            row['title'], row['release_year'], row['score'],\n",
    "            row['number_of_votes'], row['main_genre'], row['main_production']\n",
    "        ))"
   ]
  },
  {
   "cell_type": "code",
   "execution_count": 57,
   "id": "38f7c5fb-e811-4ed0-a116-eff0ea1c36eb",
   "metadata": {},
   "outputs": [],
   "source": [
    "rds_conn.commit()"
   ]
  },
  {
   "cell_type": "code",
   "execution_count": 58,
   "id": "9a1afd02-a81e-48eb-ad99-8127f4360b23",
   "metadata": {},
   "outputs": [],
   "source": [
    "rds_conn.close()\n",
    "cursor.close()\n",
    "local_conn.close()"
   ]
  },
  {
   "cell_type": "code",
   "execution_count": null,
   "id": "f346449f-9963-4f9c-88c3-72cfd9e920bf",
   "metadata": {},
   "outputs": [],
   "source": []
  }
 ],
 "metadata": {
  "kernelspec": {
   "display_name": "Python 3 (ipykernel)",
   "language": "python",
   "name": "python3"
  },
  "language_info": {
   "codemirror_mode": {
    "name": "ipython",
    "version": 3
   },
   "file_extension": ".py",
   "mimetype": "text/x-python",
   "name": "python",
   "nbconvert_exporter": "python",
   "pygments_lexer": "ipython3",
   "version": "3.10.7"
  }
 },
 "nbformat": 4,
 "nbformat_minor": 5
}
